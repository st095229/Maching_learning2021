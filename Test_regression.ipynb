{
  "nbformat": 4,
  "nbformat_minor": 0,
  "metadata": {
    "colab": {
      "name": "Test_regression",
      "provenance": [],
      "authorship_tag": "ABX9TyNyaECe0KxPu2giBkWtU894",
      "include_colab_link": true
    },
    "kernelspec": {
      "name": "python3",
      "display_name": "Python 3"
    },
    "language_info": {
      "name": "python"
    }
  },
  "cells": [
    {
      "cell_type": "markdown",
      "metadata": {
        "id": "view-in-github",
        "colab_type": "text"
      },
      "source": [
        "<a href=\"https://colab.research.google.com/github/st095229/Maching_learning2021/blob/main/Test_regression.ipynb\" target=\"_parent\"><img src=\"https://colab.research.google.com/assets/colab-badge.svg\" alt=\"Open In Colab\"/></a>"
      ]
    },
    {
      "cell_type": "code",
      "metadata": {
        "id": "R6tdpbUTJ4Hl"
      },
      "source": [
        "import sys\n",
        "import pandas as pd\n",
        "import matplotlib.pyplot as plt\n",
        "import numpy as np\n",
        "import scipy as sp\n",
        "import IPython\n",
        "import sklearn\n",
        "from sklearn import metrics\n",
        "from sklearn import model_selection\n",
        "from sklearn.linear_model import SGDRegressor\n",
        "from sklearn.pipeline import make_pipeline\n",
        "from sklearn.preprocessing import StandardScaler\n",
        "from sklearn.linear_model import LinearRegression\n",
        "from sklearn.ensemble import RandomForestRegressor\n",
        "from sklearn.metrics import mean_squared_error\n",
        "from sklearn.metrics import mean_absolute_error\n",
        "from sklearn.model_selection import GridSearchCV\n",
        "import sympy as sym\n"
      ],
      "execution_count": null,
      "outputs": []
    },
    {
      "cell_type": "code",
      "metadata": {
        "id": "36Ov1A1LSWBp"
      },
      "source": [
        "data = pd.read_csv(\"/content/data_regression_full_1.csv\")"
      ],
      "execution_count": null,
      "outputs": []
    },
    {
      "cell_type": "code",
      "metadata": {
        "colab": {
          "base_uri": "https://localhost:8080/",
          "height": 241
        },
        "id": "shjhdpuwt-Y-",
        "outputId": "7df4221e-805c-46fd-e8ae-14f66db18494"
      },
      "source": [
        "data.head()"
      ],
      "execution_count": null,
      "outputs": [
        {
          "output_type": "execute_result",
          "data": {
            "text/html": [
              "<div>\n",
              "<style scoped>\n",
              "    .dataframe tbody tr th:only-of-type {\n",
              "        vertical-align: middle;\n",
              "    }\n",
              "\n",
              "    .dataframe tbody tr th {\n",
              "        vertical-align: top;\n",
              "    }\n",
              "\n",
              "    .dataframe thead th {\n",
              "        text-align: right;\n",
              "    }\n",
              "</style>\n",
              "<table border=\"1\" class=\"dataframe\">\n",
              "  <thead>\n",
              "    <tr style=\"text-align: right;\">\n",
              "      <th></th>\n",
              "      <th>Speed</th>\n",
              "      <th>Radius_big</th>\n",
              "      <th>Radius_small</th>\n",
              "      <th>Length</th>\n",
              "      <th>Pressure_1</th>\n",
              "      <th>Pressure_2</th>\n",
              "      <th>Viscosity</th>\n",
              "      <th>Kf_a</th>\n",
              "      <th>Kf_b</th>\n",
              "      <th>Kf_c</th>\n",
              "      <th>Unnamed: 10</th>\n",
              "      <th>Unnamed: 11</th>\n",
              "      <th>Unnamed: 12</th>\n",
              "      <th>Unnamed: 13</th>\n",
              "    </tr>\n",
              "  </thead>\n",
              "  <tbody>\n",
              "    <tr>\n",
              "      <th>0</th>\n",
              "      <td>19.2</td>\n",
              "      <td>2.0</td>\n",
              "      <td>0.4</td>\n",
              "      <td>1000.0</td>\n",
              "      <td>40.0</td>\n",
              "      <td>20.0</td>\n",
              "      <td>0.001</td>\n",
              "      <td>-5.0</td>\n",
              "      <td>0</td>\n",
              "      <td>20.0</td>\n",
              "      <td>NaN</td>\n",
              "      <td>NaN</td>\n",
              "      <td>NaN</td>\n",
              "      <td>NaN</td>\n",
              "    </tr>\n",
              "    <tr>\n",
              "      <th>1</th>\n",
              "      <td>12.8</td>\n",
              "      <td>2.0</td>\n",
              "      <td>1.2</td>\n",
              "      <td>1000.0</td>\n",
              "      <td>40.0</td>\n",
              "      <td>20.0</td>\n",
              "      <td>0.001</td>\n",
              "      <td>-5.0</td>\n",
              "      <td>0</td>\n",
              "      <td>20.0</td>\n",
              "      <td>NaN</td>\n",
              "      <td>NaN</td>\n",
              "      <td>NaN</td>\n",
              "      <td>NaN</td>\n",
              "    </tr>\n",
              "    <tr>\n",
              "      <th>2</th>\n",
              "      <td>16.0</td>\n",
              "      <td>2.0</td>\n",
              "      <td>0.9</td>\n",
              "      <td>1000.0</td>\n",
              "      <td>40.0</td>\n",
              "      <td>20.0</td>\n",
              "      <td>0.001</td>\n",
              "      <td>-5.0</td>\n",
              "      <td>0</td>\n",
              "      <td>20.0</td>\n",
              "      <td>NaN</td>\n",
              "      <td>NaN</td>\n",
              "      <td>NaN</td>\n",
              "      <td>NaN</td>\n",
              "    </tr>\n",
              "    <tr>\n",
              "      <th>3</th>\n",
              "      <td>14.0</td>\n",
              "      <td>2.0</td>\n",
              "      <td>1.1</td>\n",
              "      <td>1000.0</td>\n",
              "      <td>40.0</td>\n",
              "      <td>20.0</td>\n",
              "      <td>0.001</td>\n",
              "      <td>-5.0</td>\n",
              "      <td>0</td>\n",
              "      <td>20.0</td>\n",
              "      <td>NaN</td>\n",
              "      <td>NaN</td>\n",
              "      <td>NaN</td>\n",
              "      <td>NaN</td>\n",
              "    </tr>\n",
              "    <tr>\n",
              "      <th>4</th>\n",
              "      <td>0.0</td>\n",
              "      <td>2.0</td>\n",
              "      <td>2.0</td>\n",
              "      <td>1000.0</td>\n",
              "      <td>40.0</td>\n",
              "      <td>20.0</td>\n",
              "      <td>0.001</td>\n",
              "      <td>-5.0</td>\n",
              "      <td>0</td>\n",
              "      <td>20.0</td>\n",
              "      <td>NaN</td>\n",
              "      <td>NaN</td>\n",
              "      <td>NaN</td>\n",
              "      <td>NaN</td>\n",
              "    </tr>\n",
              "  </tbody>\n",
              "</table>\n",
              "</div>"
            ],
            "text/plain": [
              "   Speed  Radius_big  Radius_small  ...  Unnamed: 11  Unnamed: 12  Unnamed: 13\n",
              "0   19.2         2.0           0.4  ...          NaN          NaN          NaN\n",
              "1   12.8         2.0           1.2  ...          NaN          NaN          NaN\n",
              "2   16.0         2.0           0.9  ...          NaN          NaN          NaN\n",
              "3   14.0         2.0           1.1  ...          NaN          NaN          NaN\n",
              "4    0.0         2.0           2.0  ...          NaN          NaN          NaN\n",
              "\n",
              "[5 rows x 14 columns]"
            ]
          },
          "metadata": {},
          "execution_count": 4
        }
      ]
    },
    {
      "cell_type": "code",
      "metadata": {
        "id": "MrlmXV7WrIMv"
      },
      "source": [
        "df = data.sample(frac=1) #Перемешивание выборки"
      ],
      "execution_count": null,
      "outputs": []
    },
    {
      "cell_type": "code",
      "metadata": {
        "colab": {
          "base_uri": "https://localhost:8080/",
          "height": 241
        },
        "id": "tHz_LduDvAKB",
        "outputId": "405688ea-6c0f-4661-c8f5-409ff54aff50"
      },
      "source": [
        "df.head()"
      ],
      "execution_count": null,
      "outputs": [
        {
          "output_type": "execute_result",
          "data": {
            "text/html": [
              "<div>\n",
              "<style scoped>\n",
              "    .dataframe tbody tr th:only-of-type {\n",
              "        vertical-align: middle;\n",
              "    }\n",
              "\n",
              "    .dataframe tbody tr th {\n",
              "        vertical-align: top;\n",
              "    }\n",
              "\n",
              "    .dataframe thead th {\n",
              "        text-align: right;\n",
              "    }\n",
              "</style>\n",
              "<table border=\"1\" class=\"dataframe\">\n",
              "  <thead>\n",
              "    <tr style=\"text-align: right;\">\n",
              "      <th></th>\n",
              "      <th>Speed</th>\n",
              "      <th>Radius_big</th>\n",
              "      <th>Radius_small</th>\n",
              "      <th>Length</th>\n",
              "      <th>Pressure_1</th>\n",
              "      <th>Pressure_2</th>\n",
              "      <th>Viscosity</th>\n",
              "      <th>Kf_a</th>\n",
              "      <th>Kf_b</th>\n",
              "      <th>Kf_c</th>\n",
              "      <th>Unnamed: 10</th>\n",
              "      <th>Unnamed: 11</th>\n",
              "      <th>Unnamed: 12</th>\n",
              "      <th>Unnamed: 13</th>\n",
              "    </tr>\n",
              "  </thead>\n",
              "  <tbody>\n",
              "    <tr>\n",
              "      <th>5243</th>\n",
              "      <td>76.2</td>\n",
              "      <td>3.9</td>\n",
              "      <td>0.8</td>\n",
              "      <td>714.2</td>\n",
              "      <td>133.6</td>\n",
              "      <td>47.6</td>\n",
              "      <td>0.006</td>\n",
              "      <td>-5.2</td>\n",
              "      <td>0</td>\n",
              "      <td>79.8</td>\n",
              "      <td>NaN</td>\n",
              "      <td>NaN</td>\n",
              "      <td>NaN</td>\n",
              "      <td>NaN</td>\n",
              "    </tr>\n",
              "    <tr>\n",
              "      <th>5058</th>\n",
              "      <td>14.1</td>\n",
              "      <td>1.6</td>\n",
              "      <td>0.4</td>\n",
              "      <td>351.7</td>\n",
              "      <td>114.7</td>\n",
              "      <td>88.4</td>\n",
              "      <td>0.003</td>\n",
              "      <td>-5.7</td>\n",
              "      <td>0</td>\n",
              "      <td>15.0</td>\n",
              "      <td>NaN</td>\n",
              "      <td>NaN</td>\n",
              "      <td>NaN</td>\n",
              "      <td>NaN</td>\n",
              "    </tr>\n",
              "    <tr>\n",
              "      <th>4347</th>\n",
              "      <td>38.3</td>\n",
              "      <td>2.8</td>\n",
              "      <td>1.1</td>\n",
              "      <td>178.3</td>\n",
              "      <td>22.6</td>\n",
              "      <td>3.4</td>\n",
              "      <td>0.005</td>\n",
              "      <td>-5.6</td>\n",
              "      <td>0</td>\n",
              "      <td>45.2</td>\n",
              "      <td>NaN</td>\n",
              "      <td>NaN</td>\n",
              "      <td>NaN</td>\n",
              "      <td>NaN</td>\n",
              "    </tr>\n",
              "    <tr>\n",
              "      <th>2531</th>\n",
              "      <td>35.1</td>\n",
              "      <td>4.4</td>\n",
              "      <td>0.7</td>\n",
              "      <td>477.3</td>\n",
              "      <td>39.5</td>\n",
              "      <td>9.2</td>\n",
              "      <td>0.009</td>\n",
              "      <td>-1.9</td>\n",
              "      <td>0</td>\n",
              "      <td>35.9</td>\n",
              "      <td>NaN</td>\n",
              "      <td>NaN</td>\n",
              "      <td>NaN</td>\n",
              "      <td>NaN</td>\n",
              "    </tr>\n",
              "    <tr>\n",
              "      <th>3563</th>\n",
              "      <td>7.3</td>\n",
              "      <td>2.5</td>\n",
              "      <td>0.6</td>\n",
              "      <td>318.5</td>\n",
              "      <td>19.2</td>\n",
              "      <td>14.5</td>\n",
              "      <td>0.003</td>\n",
              "      <td>-1.2</td>\n",
              "      <td>0</td>\n",
              "      <td>7.6</td>\n",
              "      <td>NaN</td>\n",
              "      <td>NaN</td>\n",
              "      <td>NaN</td>\n",
              "      <td>NaN</td>\n",
              "    </tr>\n",
              "  </tbody>\n",
              "</table>\n",
              "</div>"
            ],
            "text/plain": [
              "      Speed  Radius_big  Radius_small  ...  Unnamed: 11  Unnamed: 12  Unnamed: 13\n",
              "5243   76.2         3.9           0.8  ...          NaN          NaN          NaN\n",
              "5058   14.1         1.6           0.4  ...          NaN          NaN          NaN\n",
              "4347   38.3         2.8           1.1  ...          NaN          NaN          NaN\n",
              "2531   35.1         4.4           0.7  ...          NaN          NaN          NaN\n",
              "3563    7.3         2.5           0.6  ...          NaN          NaN          NaN\n",
              "\n",
              "[5 rows x 14 columns]"
            ]
          },
          "metadata": {},
          "execution_count": 6
        }
      ]
    },
    {
      "cell_type": "code",
      "metadata": {
        "colab": {
          "base_uri": "https://localhost:8080/"
        },
        "id": "8IbeGD_gvCPe",
        "outputId": "5990b2de-c05c-4e5a-f1ba-3d93f3c96ecb"
      },
      "source": [
        "df.shape #Размер"
      ],
      "execution_count": null,
      "outputs": [
        {
          "output_type": "execute_result",
          "data": {
            "text/plain": [
              "(6000, 14)"
            ]
          },
          "metadata": {},
          "execution_count": 7
        }
      ]
    },
    {
      "cell_type": "code",
      "metadata": {
        "id": "fi2_22sx2LLk"
      },
      "source": [
        "df = df.drop(['Unnamed: 10', 'Unnamed: 11', 'Unnamed: 12', 'Unnamed: 13'], axis=1)"
      ],
      "execution_count": null,
      "outputs": []
    },
    {
      "cell_type": "code",
      "metadata": {
        "colab": {
          "base_uri": "https://localhost:8080/",
          "height": 204
        },
        "id": "9CQ8dsoLvdLd",
        "outputId": "d85a1628-bd04-44c3-8f4f-d74707c3275d"
      },
      "source": [
        "X = df.drop(['Kf_a', 'Kf_b', 'Kf_c'], axis=1) #Параметры\n",
        "X.head()"
      ],
      "execution_count": null,
      "outputs": [
        {
          "output_type": "execute_result",
          "data": {
            "text/html": [
              "<div>\n",
              "<style scoped>\n",
              "    .dataframe tbody tr th:only-of-type {\n",
              "        vertical-align: middle;\n",
              "    }\n",
              "\n",
              "    .dataframe tbody tr th {\n",
              "        vertical-align: top;\n",
              "    }\n",
              "\n",
              "    .dataframe thead th {\n",
              "        text-align: right;\n",
              "    }\n",
              "</style>\n",
              "<table border=\"1\" class=\"dataframe\">\n",
              "  <thead>\n",
              "    <tr style=\"text-align: right;\">\n",
              "      <th></th>\n",
              "      <th>Speed</th>\n",
              "      <th>Radius_big</th>\n",
              "      <th>Radius_small</th>\n",
              "      <th>Length</th>\n",
              "      <th>Pressure_1</th>\n",
              "      <th>Pressure_2</th>\n",
              "      <th>Viscosity</th>\n",
              "    </tr>\n",
              "  </thead>\n",
              "  <tbody>\n",
              "    <tr>\n",
              "      <th>5243</th>\n",
              "      <td>76.2</td>\n",
              "      <td>3.9</td>\n",
              "      <td>0.8</td>\n",
              "      <td>714.2</td>\n",
              "      <td>133.6</td>\n",
              "      <td>47.6</td>\n",
              "      <td>0.006</td>\n",
              "    </tr>\n",
              "    <tr>\n",
              "      <th>5058</th>\n",
              "      <td>14.1</td>\n",
              "      <td>1.6</td>\n",
              "      <td>0.4</td>\n",
              "      <td>351.7</td>\n",
              "      <td>114.7</td>\n",
              "      <td>88.4</td>\n",
              "      <td>0.003</td>\n",
              "    </tr>\n",
              "    <tr>\n",
              "      <th>4347</th>\n",
              "      <td>38.3</td>\n",
              "      <td>2.8</td>\n",
              "      <td>1.1</td>\n",
              "      <td>178.3</td>\n",
              "      <td>22.6</td>\n",
              "      <td>3.4</td>\n",
              "      <td>0.005</td>\n",
              "    </tr>\n",
              "    <tr>\n",
              "      <th>2531</th>\n",
              "      <td>35.1</td>\n",
              "      <td>4.4</td>\n",
              "      <td>0.7</td>\n",
              "      <td>477.3</td>\n",
              "      <td>39.5</td>\n",
              "      <td>9.2</td>\n",
              "      <td>0.009</td>\n",
              "    </tr>\n",
              "    <tr>\n",
              "      <th>3563</th>\n",
              "      <td>7.3</td>\n",
              "      <td>2.5</td>\n",
              "      <td>0.6</td>\n",
              "      <td>318.5</td>\n",
              "      <td>19.2</td>\n",
              "      <td>14.5</td>\n",
              "      <td>0.003</td>\n",
              "    </tr>\n",
              "  </tbody>\n",
              "</table>\n",
              "</div>"
            ],
            "text/plain": [
              "      Speed  Radius_big  Radius_small  ...  Pressure_1  Pressure_2  Viscosity\n",
              "5243   76.2         3.9           0.8  ...       133.6        47.6      0.006\n",
              "5058   14.1         1.6           0.4  ...       114.7        88.4      0.003\n",
              "4347   38.3         2.8           1.1  ...        22.6         3.4      0.005\n",
              "2531   35.1         4.4           0.7  ...        39.5         9.2      0.009\n",
              "3563    7.3         2.5           0.6  ...        19.2        14.5      0.003\n",
              "\n",
              "[5 rows x 7 columns]"
            ]
          },
          "metadata": {},
          "execution_count": 9
        }
      ]
    },
    {
      "cell_type": "code",
      "metadata": {
        "colab": {
          "base_uri": "https://localhost:8080/",
          "height": 204
        },
        "id": "aRWgWs55vwSu",
        "outputId": "6c4f6b46-c086-4a77-d6b1-a2a4ca4f9adc"
      },
      "source": [
        "y = df.drop(['Speed', 'Radius_big', 'Radius_small', 'Length',\\\n",
        "             'Pressure_1', 'Pressure_2', 'Viscosity'], axis=1) #Коэффициенты\n",
        "y.head()"
      ],
      "execution_count": null,
      "outputs": [
        {
          "output_type": "execute_result",
          "data": {
            "text/html": [
              "<div>\n",
              "<style scoped>\n",
              "    .dataframe tbody tr th:only-of-type {\n",
              "        vertical-align: middle;\n",
              "    }\n",
              "\n",
              "    .dataframe tbody tr th {\n",
              "        vertical-align: top;\n",
              "    }\n",
              "\n",
              "    .dataframe thead th {\n",
              "        text-align: right;\n",
              "    }\n",
              "</style>\n",
              "<table border=\"1\" class=\"dataframe\">\n",
              "  <thead>\n",
              "    <tr style=\"text-align: right;\">\n",
              "      <th></th>\n",
              "      <th>Kf_a</th>\n",
              "      <th>Kf_b</th>\n",
              "      <th>Kf_c</th>\n",
              "    </tr>\n",
              "  </thead>\n",
              "  <tbody>\n",
              "    <tr>\n",
              "      <th>5243</th>\n",
              "      <td>-5.2</td>\n",
              "      <td>0</td>\n",
              "      <td>79.8</td>\n",
              "    </tr>\n",
              "    <tr>\n",
              "      <th>5058</th>\n",
              "      <td>-5.7</td>\n",
              "      <td>0</td>\n",
              "      <td>15.0</td>\n",
              "    </tr>\n",
              "    <tr>\n",
              "      <th>4347</th>\n",
              "      <td>-5.6</td>\n",
              "      <td>0</td>\n",
              "      <td>45.2</td>\n",
              "    </tr>\n",
              "    <tr>\n",
              "      <th>2531</th>\n",
              "      <td>-1.9</td>\n",
              "      <td>0</td>\n",
              "      <td>35.9</td>\n",
              "    </tr>\n",
              "    <tr>\n",
              "      <th>3563</th>\n",
              "      <td>-1.2</td>\n",
              "      <td>0</td>\n",
              "      <td>7.6</td>\n",
              "    </tr>\n",
              "  </tbody>\n",
              "</table>\n",
              "</div>"
            ],
            "text/plain": [
              "      Kf_a  Kf_b  Kf_c\n",
              "5243  -5.2     0  79.8\n",
              "5058  -5.7     0  15.0\n",
              "4347  -5.6     0  45.2\n",
              "2531  -1.9     0  35.9\n",
              "3563  -1.2     0   7.6"
            ]
          },
          "metadata": {},
          "execution_count": 10
        }
      ]
    },
    {
      "cell_type": "code",
      "metadata": {
        "id": "hCR52CBDwaYY"
      },
      "source": [
        "n = len(X)\n",
        "n_train = round(n * 0.85)\n",
        "\n",
        "train_X = X.iloc[:n_train]\n",
        "test_X = X.iloc[n_train:] #Разбитие на тренировочную и тестовую выборки\n",
        "\n",
        "train_y, test_y = y.loc[train_X.index], y.loc[test_X.index]"
      ],
      "execution_count": null,
      "outputs": []
    },
    {
      "cell_type": "code",
      "metadata": {
        "colab": {
          "base_uri": "https://localhost:8080/"
        },
        "id": "vvSS8-I7xKko",
        "outputId": "d4372cdc-99f2-4418-bff7-cf021a1fa484"
      },
      "source": [
        "params = {'n_jobs': range(0,20)}\n",
        "model = LinearRegression() #Линейная регрессия\n",
        "rar = GridSearchCV(model, params) #Подбор гиперпараметров\n",
        "rar.fit(train_X, train_y)\n",
        "rar.best_params_ \n"
      ],
      "execution_count": null,
      "outputs": [
        {
          "output_type": "execute_result",
          "data": {
            "text/plain": [
              "{'n_jobs': 0}"
            ]
          },
          "metadata": {},
          "execution_count": 22
        }
      ]
    },
    {
      "cell_type": "code",
      "metadata": {
        "colab": {
          "base_uri": "https://localhost:8080/"
        },
        "id": "61iC9lPI5b0D",
        "outputId": "e6fe42fc-2c53-41b0-9bf5-2c4ae2483d51"
      },
      "source": [
        "model_1 = LinearRegression().fit(train_X, train_y) #Тренировка\n",
        "res = model_1.score(train_X, train_y)\n",
        "res\n"
      ],
      "execution_count": null,
      "outputs": [
        {
          "output_type": "execute_result",
          "data": {
            "text/plain": [
              "0.9476518272878293"
            ]
          },
          "metadata": {},
          "execution_count": 23
        }
      ]
    },
    {
      "cell_type": "code",
      "metadata": {
        "colab": {
          "base_uri": "https://localhost:8080/"
        },
        "id": "ZT2yOt8k23id",
        "outputId": "36cc256a-07a8-4880-9dc1-c112a431417b"
      },
      "source": [
        "rslt_test = model_1.predict(test_X)\n",
        "err_test = mean_absolute_error(test_y, rslt_test)\n",
        "print('MAE, test: %f' % err_test) #Линейная регрессия совсем не справляется"
      ],
      "execution_count": null,
      "outputs": [
        {
          "output_type": "stream",
          "name": "stdout",
          "text": [
            "MAE, test: 175.963011\n"
          ]
        }
      ]
    },
    {
      "cell_type": "code",
      "metadata": {
        "id": "Lbx5xNQP4X1w",
        "colab": {
          "base_uri": "https://localhost:8080/"
        },
        "outputId": "ba16895d-0b0d-4240-eca6-7717e3be1e6f"
      },
      "source": [
        "params = {'n_estimators': range(1500, 1701, 100)} #Лучшие гиперпараметры\n",
        "model = RandomForestRegressor()\n",
        "rar = GridSearchCV(model, params)\n",
        "rar.fit(train_X, train_y)"
      ],
      "execution_count": null,
      "outputs": [
        {
          "output_type": "execute_result",
          "data": {
            "text/plain": [
              "GridSearchCV(estimator=RandomForestRegressor(),\n",
              "             param_grid={'n_estimators': range(1500, 1701, 100)})"
            ]
          },
          "metadata": {},
          "execution_count": 50
        }
      ]
    },
    {
      "cell_type": "code",
      "metadata": {
        "colab": {
          "base_uri": "https://localhost:8080/"
        },
        "id": "CEaMugweOsxk",
        "outputId": "7cd92557-e1bd-4812-8ee5-7e6bc6cc008a"
      },
      "source": [
        "rar.best_params_"
      ],
      "execution_count": null,
      "outputs": [
        {
          "output_type": "execute_result",
          "data": {
            "text/plain": [
              "{'n_estimators': 1500}"
            ]
          },
          "metadata": {},
          "execution_count": 51
        }
      ]
    },
    {
      "cell_type": "code",
      "metadata": {
        "colab": {
          "base_uri": "https://localhost:8080/"
        },
        "id": "XD-BT4uDPGoR",
        "outputId": "bf9f3b21-5b0d-43e8-a148-9fa996a9594c"
      },
      "source": [
        "momdel = RandomForestRegressor(max_features = 7, min_samples_leaf = 2, \\\n",
        "                               max_depth = 10, n_estimators=1500)\n",
        "momdel.fit(train_X, train_y)"
      ],
      "execution_count": null,
      "outputs": [
        {
          "output_type": "execute_result",
          "data": {
            "text/plain": [
              "RandomForestRegressor(max_depth=10, max_features=7, min_samples_leaf=2,\n",
              "                      n_estimators=1500)"
            ]
          },
          "metadata": {},
          "execution_count": 52
        }
      ]
    },
    {
      "cell_type": "code",
      "metadata": {
        "colab": {
          "base_uri": "https://localhost:8080/"
        },
        "id": "tKBpTsxsRDVC",
        "outputId": "060f2030-2557-4c52-d3dd-5d6fa224776e"
      },
      "source": [
        "rslt_test = momdel.predict(test_X)\n",
        "err_test = mean_absolute_error(test_y, rslt_test)\n",
        "print('MAE, test: %f' % err_test) #Случайный лес справляется лучше"
      ],
      "execution_count": null,
      "outputs": [
        {
          "output_type": "stream",
          "name": "stdout",
          "text": [
            "MAE, test: 72.351669\n"
          ]
        }
      ]
    }
  ]
}